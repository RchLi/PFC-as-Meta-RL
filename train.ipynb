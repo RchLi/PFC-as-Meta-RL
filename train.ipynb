{
 "cells": [
  {
   "cell_type": "code",
   "execution_count": 3,
   "metadata": {},
   "outputs": [],
   "source": [
    "from model import A3C_LSTM\n",
    "from env import SimpleBandit, generate_bandit\n",
    "\n",
    "import numpy as np\n",
    "import torch as T\n",
    "import torch.nn as nn\n",
    "from torch.nn import functional as F\n",
    "from torch.utils.tensorboard import SummaryWriter\n",
    "from time import time\n",
    "from tqdm.notebook import tqdm"
   ]
  },
  {
   "cell_type": "code",
   "execution_count": 4,
   "metadata": {},
   "outputs": [
    {
     "name": "stdout",
     "output_type": "stream",
     "text": [
      "tensor([0.])\n"
     ]
    }
   ],
   "source": [
    "# test env\n",
    "env_bandit = generate_bandit(independent=True)\n",
    "print(env_bandit.action(0))  "
   ]
  },
  {
   "cell_type": "markdown",
   "metadata": {},
   "source": [
    "# Training"
   ]
  },
  {
   "cell_type": "code",
   "execution_count": 5,
   "metadata": {},
   "outputs": [],
   "source": [
    "device = 'cpu'\n",
    "# training env param\n",
    "num_episode = 10000 #20000\n",
    "count_trial = 1\n",
    "num_update = 100\n",
    "num_trial = count_trial * num_update\n",
    "\n",
    "\n",
    "# hyper-param\n",
    "learning_rate = 5e-4\n",
    "gamma = .8\n",
    "gae_lambda = 1.\n",
    "entropy_coeff = 1e-3\n",
    "value_coeff = 5e-2"
   ]
  },
  {
   "cell_type": "code",
   "execution_count": 6,
   "metadata": {},
   "outputs": [],
   "source": [
    "# load model and optimizer\n",
    "agent = A3C_LSTM(48, 2)\n",
    "agent.to(device)\n",
    "agent.train()\n",
    "optimizer = T.optim.RMSprop(agent.parameters(), lr=learning_rate)\n",
    "# intialize a, r, memory\n",
    "\n",
    "p_action = [0, 0]\n",
    "p_reward = 0\n",
    "p_mem = agent.get_init_states()"
   ]
  },
  {
   "cell_type": "code",
   "execution_count": 8,
   "metadata": {},
   "outputs": [
    {
     "data": {
      "application/vnd.jupyter.widget-view+json": {
       "model_id": "5257ff54435d4a1bafecfb8f11d2e565",
       "version_major": 2,
       "version_minor": 0
      },
      "text/plain": [
       "HBox(children=(HTML(value=''), FloatProgress(value=0.0, max=10000.0), HTML(value='')))"
      ]
     },
     "metadata": {},
     "output_type": "display_data"
    },
    {
     "name": "stdout",
     "output_type": "stream",
     "text": [
      "\n"
     ]
    }
   ],
   "source": [
    "for i in tqdm(range(num_episode)):\n",
    "    new_bandit = generate_bandit()\n",
    "    for j in range(count_trial):\n",
    "        values = []\n",
    "        log_probs = []\n",
    "        rewards = []\n",
    "        entropies = []\n",
    "        # detach memory before each sampling\n",
    "        p_mem = p_mem[0].detach(), p_mem[0].detach()\n",
    "        for k in range(num_update):\n",
    "            timestep = T.tensor([[k]]).float().to(device)\n",
    "            logit, value, p_mem = agent(timestep,\n",
    "                (T.tensor([p_action]).float().to(device), \n",
    "                 T.tensor([[p_reward]]).float().to(device)),\n",
    "                p_mem)\n",
    "            \n",
    "            logit = logit.squeeze(0)\n",
    "            prob = F.softmax(logit, dim=-1)\n",
    "            log_prob = F.log_softmax(logit, dim=-1)\n",
    "            entropy = -(log_prob * prob).sum(1, keepdim=True)\n",
    "            action = prob.multinomial(num_samples=1).detach()\n",
    "            \n",
    "            log_prob = log_prob.gather(1, action)\n",
    "            \n",
    "            reward = new_bandit.action(int(action))[0]\n",
    "            \n",
    "            p_action = np.eye(2)[int(action)]\n",
    "            p_reward = reward\n",
    "            \n",
    "            log_probs.append(log_prob)\n",
    "            values.append(value)\n",
    "            rewards.append(reward)\n",
    "            entropies.append(entropy)\n",
    "            \n",
    "    # calculate policy & value loss, back propogate\n",
    "        R = T.zeros(1, 1).to(device)\n",
    "        _, value, _ =  agent(timestep,\n",
    "                    (T.tensor([p_action]).float().to(device), \n",
    "                     T.tensor([[p_reward]]).float().to(device)),\n",
    "                    p_mem)\n",
    "        R = value.detach()\n",
    "        values.append(R)\n",
    "        policy_loss = 0\n",
    "        value_loss = 0\n",
    "        gae = T.zeros(1, 1).to(device)\n",
    "\n",
    "        for i in reversed(range(len(rewards))):\n",
    "            R = gamma * R + rewards[i]\n",
    "            advantage = R - values[i]\n",
    "            value_loss += .5 * advantage.pow(2)\n",
    "\n",
    "            delta_t = rewards[i] + gamma * values[i + 1] - values[i]\n",
    "            gae = gae * gamma * gae_lambda + delta_t\n",
    "            policy_loss -= log_probs[i] * gae.detach() - entropy_coeff * entropies[i]\n",
    "\n",
    "        loss = policy_loss + value_coeff * value_loss \n",
    "        optimizer.zero_grad()\n",
    "        loss.backward(retain_graph=True)\n",
    "        optimizer.step()\n",
    "    "
   ]
  },
  {
   "cell_type": "code",
   "execution_count": 9,
   "metadata": {},
   "outputs": [],
   "source": [
    "#T.save(agent.state_dict(), './trained/agent_dependent')"
   ]
  },
  {
   "cell_type": "markdown",
   "metadata": {},
   "source": [
    "# Testing"
   ]
  },
  {
   "cell_type": "code",
   "execution_count": 41,
   "metadata": {},
   "outputs": [],
   "source": [
    "agent = A3C_LSTM(48, 2)\n",
    "agent.to(device)\n",
    "agent.load_state_dict(T.load('./trained/agent_dependent'))\n",
    "agent.eval()\n",
    "\n",
    "p_test = .6\n",
    "test_bandit = SimpleBandit(T.tensor([p_test]))\n",
    "\n",
    "p_action = [0, 0]\n",
    "p_reward = 0\n",
    "p_mem = agent.get_init_states()"
   ]
  },
  {
   "cell_type": "code",
   "execution_count": 42,
   "metadata": {},
   "outputs": [],
   "source": [
    "regrets = np.zeros(100)\n",
    "rewards = np.zeros(100)\n",
    "actions = []\n",
    "num_episode_test = 100\n",
    "for i in range(num_episode_test):\n",
    "    regret = 0\n",
    "    reward = 0\n",
    "    p_action = [0, 0]\n",
    "    p_reward = 0\n",
    "    p_mem = agent.get_init_states()\n",
    "    for k in range(num_trial):\n",
    "        timestep = T.tensor([[k]]).float().to(device)\n",
    "        logit, value, p_mem = agent(timestep,\n",
    "                    (T.tensor([p_action]).float().to(device), \n",
    "                     T.tensor([[p_reward]]).float().to(device)),\n",
    "                    p_mem)\n",
    "\n",
    "        logit = logit.squeeze(0)\n",
    "        prob = F.softmax(logit, dim=-1)\n",
    "        log_prob = F.log_softmax(logit, dim=-1)\n",
    "        entropy = -(log_prob * prob).sum(1, keepdim=True)\n",
    "        action = prob.multinomial(num_samples=1).detach()\n",
    "        reward = test_bandit.action(int(action))\n",
    "        regret += 2 * p_test - 1 if int(action) != 1 else 0\n",
    "        regrets[k] += regret\n",
    "        if i == 0:\n",
    "            actions.append(int(action))\n",
    "regrets /= num_episode_test"
   ]
  },
  {
   "cell_type": "code",
   "execution_count": 16,
   "metadata": {},
   "outputs": [
    {
     "data": {
      "text/plain": [
       "<matplotlib.collections.QuadMesh at 0x2e0d106bb08>"
      ]
     },
     "execution_count": 16,
     "metadata": {},
     "output_type": "execute_result"
    },
    {
     "data": {
      "image/png": "[encoded data removed]",
      "text/plain": [
       "<Figure size 648x432 with 1 Axes>"
      ]
     },
     "metadata": {
      "needs_background": "light"
     },
     "output_type": "display_data"
    }
   ],
   "source": [
    "import matplotlib.pyplot as plt\n",
    "plt.figure(figsize=(9,6))\n",
    "actions = np.array(actions).reshape(10,10).T\n",
    "cm=plt.cm.get_cmap('Pastel1')\n",
    "plt.pcolormesh(actions, cmap=cm)"
   ]
  },
  {
   "cell_type": "markdown",
   "metadata": {},
   "source": [
    "# Implement UCB"
   ]
  },
  {
   "cell_type": "code",
   "execution_count": 44,
   "metadata": {},
   "outputs": [],
   "source": [
    "import numpy as np \n",
    "import matplotlib.pyplot as plt \n",
    "import pandas as pd\n",
    "class ucb_bandit:\n",
    "    def __init__(self, k, c, iters, p):\n",
    "        # Number of arms\n",
    "        self.k = k\n",
    "        # Exploration parameter\n",
    "        self.c = c\n",
    "        self.iters = iters\n",
    "        self.n = 1\n",
    "        self.k_n = np.ones(k)\n",
    "        self.cul_regret = 0\n",
    "        self.regret = np.zeros(iters)\n",
    "        self.k_reward = np.zeros(k)\n",
    "        \n",
    "        self.mu = [p, 1-p]\n",
    "        \n",
    "    def pull(self):\n",
    "        a = np.argmax(self.k_reward + self.c * np.sqrt(\n",
    "                (np.log(self.n)) / self.k_n))\n",
    "            \n",
    "        reward = np.random.binomial(1, self.mu[a])\n",
    "        if a == 1:\n",
    "            self.cul_regret += 2*p_test - 1\n",
    "        self.n += 1\n",
    "        self.k_n[a] += 1\n",
    "        self.k_reward[a] = self.k_reward[a] + (\n",
    "            reward - self.k_reward[a]) / self.k_n[a]\n",
    "        \n",
    "    def run(self):\n",
    "        for i in range(self.iters):\n",
    "            self.pull()\n",
    "            self.regret[i] = self.cul_regret\n",
    "            \n",
    "    def reset(self, mu=None):\n",
    "        self.n = 1\n",
    "        self.k_n = np.ones(self.k)\n",
    "        self.cul_regret = 0\n",
    "        self.regret = np.zeros(iters)\n",
    "        self.k_reward = np.zeros(self.k)\n",
    "            \n",
    "k = 2 \n",
    "iters = 100\n",
    "ucb_regrets = np.zeros(iters)\n",
    "ucb = ucb_bandit(k, 1, iters, p_test)\n",
    "episodes = 100\n",
    "for i in range(episodes): \n",
    "    ucb.reset()\n",
    "    ucb.run()\n",
    "    \n",
    "    ucb_regrets = ucb_regrets + (\n",
    "        ucb.regret - ucb_regrets) / (i + 1)\n",
    "    \n"
   ]
  },
  {
   "cell_type": "markdown",
   "metadata": {},
   "source": [
    "# Implement Thompson Sampling"
   ]
  },
  {
   "cell_type": "code",
   "execution_count": 37,
   "metadata": {},
   "outputs": [],
   "source": [
    "class ThompsonSocket():\n",
    "    def __init__( self ):             \n",
    "                \n",
    "        self.alpha = 1  # the number of times this socket returned a charge        \n",
    "        self.beta = 1  # the number of times no charge was returned    \n",
    "                    \n",
    "    def update(self,R):\n",
    "        \"\"\" increase the number of times this socket has been used and \n",
    "            update the counts of the number of times the socket has and \n",
    "            has not returned a charge (alpha and beta)\"\"\"\n",
    "        self.alpha += R\n",
    "        self.beta += (1-R)\n",
    "        \n",
    "    def sample(self):\n",
    "        \"\"\" return a value sampled from the beta distribution \"\"\"\n",
    "        return np.random.beta(self.alpha, self.beta)\n",
    "\n",
    "\n",
    "episode_test = 100\n",
    "iter_test = 100\n",
    "thompson_regrets = np.zeros(iter_test)\n",
    "for i in range(episode_test):\n",
    "    sockets = [ThompsonSocket(), ThompsonSocket()]\n",
    "    thompson_regret = 0\n",
    "    for j in range(iter_test):\n",
    "        samples = [s.sample() for s in sockets]\n",
    "        action = np.argmax(samples)\n",
    "        thompson_regret += 2 * p_test - 1 if action == 1 else 0\n",
    "        reward =test_bandit.action(action)\n",
    "        sockets[action].update(reward)\n",
    "        thompson_regrets[j] += thompson_regret\n",
    "thompson_regrets /= episode_test\n"
   ]
  },
  {
   "cell_type": "code",
   "execution_count": 45,
   "metadata": {},
   "outputs": [],
   "source": [
    "dependent_regrets = regrets"
   ]
  },
  {
   "cell_type": "code",
   "execution_count": 51,
   "metadata": {},
   "outputs": [
    {
     "data": {
      "image/png": "[encoded data removed]",
      "text/plain": [
       "<Figure size 648x432 with 1 Axes>"
      ]
     },
     "metadata": {
      "needs_background": "light"
     },
     "output_type": "display_data"
    }
   ],
   "source": [
    "plt.figure(figsize=(9,6))\n",
    "plt.plot(ucb_regrets, label=\"UCB\")\n",
    "plt.plot(thompson_regrets, label=\"Thompson\")\n",
    "plt.plot(independent_regrets, label='Independent Bandit')\n",
    "plt.plot(dependent_regrets, label='Dependent Bandit')\n",
    "plt.legend(bbox_to_anchor=(1.2, 0.5))\n",
    "plt.xlabel(\"Iterations\")\n",
    "plt.ylabel(\"Cumulative regret\")\n",
    "plt.title(\"Average cumulative regret over\" \n",
    "          + str(episodes) + \" episodes\")\n",
    "plt.show()"
   ]
  }
 ],
 "metadata": {
  "kernelspec": {
   "display_name": "Python 3",
   "language": "python",
   "name": "python3"
  },
  "language_info": {
   "codemirror_mode": {
    "name": "ipython",
    "version": 3
   },
   "file_extension": ".py",
   "mimetype": "text/x-python",
   "name": "python",
   "nbconvert_exporter": "python",
   "pygments_lexer": "ipython3",
   "version": "3.7.4"
  }
 },
 "nbformat": 4,
 "nbformat_minor": 4
}
